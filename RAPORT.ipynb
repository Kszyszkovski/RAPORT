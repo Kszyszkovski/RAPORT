{
 "cells": [
  {
   "cell_type": "markdown",
   "id": "de7adc58-5172-4fd4-880b-0fee3063eabf",
   "metadata": {},
   "source": [
    "TECHNIKI PROGRAMOWANIA - projekt 3\n",
    "Oskar Synowiec 193385\n",
    "Kazimierz Szyszkowski 197867\n",
    "\n",
    "Rysowanie wykresu funkcji sinus:"
   ]
  },
  {
   "cell_type": "code",
   "execution_count": null,
   "id": "1202e0b2-6c4e-406a-ad38-72727112744f",
   "metadata": {},
   "outputs": [],
   "source": [
    "std::vector<std::vector<double>> gen_sin(double amp = 1, double freq = 1, size_t resolution = 256, size_t cycles = 1) {\n",
    "  auto period = 1 / freq;\n",
    "  // [0] - x axis\n",
    "  // [1] - y axis\n",
    "  std::vector<std::vector<double>> out(2);\n",
    "  out[0] = std::vector<double>(resolution * cycles);\n",
    "  out[1] = std::vector<double>(resolution * cycles);\n",
    "  for (size_t i = 0; i < resolution * cycles; ++i) {\n",
    "    auto frac = ((double)i / (resolution - 1));\n",
    "    out[0][i] = frac * period;\n",
    "    out[1][i] = std::sin(frac * 2 * pi) * amp;\n",
    "  }\n",
    "\n",
    "  return out;\n",
    "}"
   ]
  },
  {
   "cell_type": "markdown",
   "id": "494cc481-2069-4da6-bbb2-f1be96dbec3b",
   "metadata": {},
   "source": [
    "![sin](sigvis/sigvis/img/generated/sin2.jpg)"
   ]
  },
  {
   "cell_type": "markdown",
   "id": "487ce2a6-1443-40f3-ba9a-01ce8eda5f27",
   "metadata": {},
   "source": [
    "Rysowanie funkcji cosinus:"
   ]
  },
  {
   "cell_type": "code",
   "execution_count": null,
   "id": "a9d49c75-e337-41ea-b000-4f167bd303c3",
   "metadata": {},
   "outputs": [],
   "source": [
    "std::vector<std::vector<double>> gen_cos(double amp = 1, double freq = 1, size_t resolution = 256, size_t cycles = 1) {\n",
    "  auto period = 1 / freq;\n",
    "  // [0] - x axis\n",
    "  // [1] - y axis\n",
    "  std::vector<std::vector<double>> out(2);\n",
    "  out[0] = std::vector<double>(resolution * cycles);\n",
    "  out[1] = std::vector<double>(resolution * cycles);\n",
    "  for (size_t i = 0; i < resolution * cycles; ++i) {\n",
    "    auto frac = ((double)i / (resolution - 1));\n",
    "    out[0][i] = frac * period;\n",
    "    out[1][i] = std::cos(frac * 2 * pi) * amp;\n",
    "  }\n",
    "\n",
    "  return out;\n",
    "}"
   ]
  },
  {
   "cell_type": "markdown",
   "id": "c80e6956-a6d6-4ae1-90f1-3b72709009b9",
   "metadata": {},
   "source": [
    "![sin](sigvis/sigvis/img/generated/cos.jpg)"
   ]
  },
  {
   "cell_type": "markdown",
   "id": "202df3a1-5dba-486b-b196-ce36f1f5517a",
   "metadata": {},
   "source": [
    "Algorytm DFT"
   ]
  },
  {
   "cell_type": "code",
   "execution_count": null,
   "id": "2cef02f0-cab9-4d9b-bab7-3144eead8a32",
   "metadata": {},
   "outputs": [],
   "source": [
    "struct Complex {\n",
    "    double real, imaginary;\n",
    "\n",
    "    double get_real() const { return real; }\n",
    "    double get_imaginary() const { return imaginary; }\n",
    "\n",
    "    Complex(double r, double i) : real(r), imaginary(i) {}\n",
    "    Complex() = default;\n",
    "};\n",
    "\n",
    "std::vector<Complex> dft(std::vector<double> in, int N) {\n",
    "    std::vector<Complex> out;\n",
    "    std::vector<double> x_r; // real parts\n",
    "    std::vector<double> x_i; // imaginary parts\n",
    "\n",
    "    auto len = in.size();\n",
    "\n",
    "    for (int k = 0; k < N; ++k) {\n",
    "        x_r.push_back(0.0);\n",
    "        x_i.push_back(0.0);\n",
    "        for (int n = 0; n < len; ++n) {\n",
    "            x_r[k] += (in[n] * std::cos(2 * 3.141592 * k * n / N));\n",
    "            x_i[k] += (in[n] * std::sin(2 * 3.141592 * k * n / N));\n",
    "        }\n",
    "        out.push_back(Complex(x_r[k], x_i[k]));\n",
    "    }\n",
    "\n",
    "    return out;\n",
    "}\n",
    "\n",
    "std::vector<double> idft(std::vector<Complex> in, int N) {\n",
    "    std::vector<double> out;\n",
    "\n",
    "    auto len = in.size();\n",
    "\n",
    "    for (int n = 0; n < N; ++n) {\n",
    "        out.push_back(0.0);\n",
    "        for (int k = 0; k < N; ++k) {\n",
    "            int theta = (2 * 3.141592 * k * n) / N;\n",
    "            out[n] += in[k].get_real() * std::cos(theta) + in[k].get_imaginary() * std::sin(theta);\n",
    "        }\n",
    "        out[n] /= N;\n",
    "    }\n",
    "\n",
    "    return out;\n",
    "}"
   ]
  },
  {
   "cell_type": "markdown",
   "id": "eee16f16-ba34-43b6-a8a4-af2260500ef0",
   "metadata": {},
   "source": [
    "![sin](sigvis/sigvis/img/generated/actual.jpg)"
   ]
  },
  {
   "cell_type": "markdown",
   "id": "14f8bc2b-3fc8-4abf-ac0d-c418baab2440",
   "metadata": {},
   "source": [
    "![sin](sigvis/sigvis/img/generated/expected.jpg)"
   ]
  },
  {
   "cell_type": "markdown",
   "id": "5e67f015-50ac-428b-a8d9-3f4b6f0f4d8f",
   "metadata": {},
   "source": [
    "![sin](sigvis/sigvis/img/generated/saw.jpg)"
   ]
  }
 ],
 "metadata": {
  "kernelspec": {
   "display_name": "Python 3 (ipykernel)",
   "language": "python",
   "name": "python3"
  },
  "language_info": {
   "codemirror_mode": {
    "name": "ipython",
    "version": 3
   },
   "file_extension": ".py",
   "mimetype": "text/x-python",
   "name": "python",
   "nbconvert_exporter": "python",
   "pygments_lexer": "ipython3",
   "version": "3.12.3"
  }
 },
 "nbformat": 4,
 "nbformat_minor": 5
}
