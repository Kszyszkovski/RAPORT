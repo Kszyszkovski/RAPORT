{
 "cells": [
  {
   "cell_type": "raw",
   "id": "da9c0998-5575-4a32-99ee-8fb3d053bc2b",
   "metadata": {},
   "source": [
    "TECHNIKI PROGRAMOWANIA - projekt 3\n",
    "Oskar Synowiec 193385\n",
    "Kazimierz Szyszkowski 197867\n",
    "\n",
    "Rysowanie wykresu funkcji sinus:"
   ]
  },
  {
   "cell_type": "code",
   "execution_count": null,
   "id": "1202e0b2-6c4e-406a-ad38-72727112744f",
   "metadata": {},
   "outputs": [],
   "source": [
    "std::vector<std::vector<double>> gen_sin(double amp = 1, double freq = 1, size_t resolution = 256, size_t cycles = 1) {\n",
    "  auto period = 1 / freq;\n",
    "  // [0] - x axis\n",
    "  // [1] - y axis\n",
    "  std::vector<std::vector<double>> out(2);\n",
    "  out[0] = std::vector<double>(resolution * cycles);\n",
    "  out[1] = std::vector<double>(resolution * cycles);\n",
    "  for (size_t i = 0; i < resolution * cycles; ++i) {\n",
    "    auto frac = ((double)i / (resolution - 1));\n",
    "    out[0][i] = frac * period;\n",
    "    out[1][i] = std::sin(frac * 2 * pi) * amp;\n",
    "  }\n",
    "\n",
    "  return out;\n",
    "}"
   ]
  },
  {
   "cell_type": "markdown",
   "id": "494cc481-2069-4da6-bbb2-f1be96dbec3b",
   "metadata": {},
   "source": [
    "![sin](sigvis/sigvis/img/generated/sin2.jpg)"
   ]
  },
  {
   "cell_type": "markdown",
   "id": "487ce2a6-1443-40f3-ba9a-01ce8eda5f27",
   "metadata": {},
   "source": [
    "Rysowanie funkcji cosinus:"
   ]
  },
  {
   "cell_type": "code",
   "execution_count": null,
   "id": "a9d49c75-e337-41ea-b000-4f167bd303c3",
   "metadata": {},
   "outputs": [],
   "source": [
    "std::vector<std::vector<double>> gen_cos(double amp = 1, double freq = 1, size_t resolution = 256, size_t cycles = 1) {\n",
    "  auto period = 1 / freq;\n",
    "  // [0] - x axis\n",
    "  // [1] - y axis\n",
    "  std::vector<std::vector<double>> out(2);\n",
    "  out[0] = std::vector<double>(resolution * cycles);\n",
    "  out[1] = std::vector<double>(resolution * cycles);\n",
    "  for (size_t i = 0; i < resolution * cycles; ++i) {\n",
    "    auto frac = ((double)i / (resolution - 1));\n",
    "    out[0][i] = frac * period;\n",
    "    out[1][i] = std::cos(frac * 2 * pi) * amp;\n",
    "  }\n",
    "\n",
    "  return out;\n",
    "}"
   ]
  },
  {
   "cell_type": "markdown",
   "id": "c80e6956-a6d6-4ae1-90f1-3b72709009b9",
   "metadata": {},
   "source": [
    "![sin](sigvis/sigvis/img/generated/cos.jpg)"
   ]
  }
 ],
 "metadata": {
  "kernelspec": {
   "display_name": "Python 3 (ipykernel)",
   "language": "python",
   "name": "python3"
  },
  "language_info": {
   "codemirror_mode": {
    "name": "ipython",
    "version": 3
   },
   "file_extension": ".py",
   "mimetype": "text/x-python",
   "name": "python",
   "nbconvert_exporter": "python",
   "pygments_lexer": "ipython3",
   "version": "3.12.3"
  }
 },
 "nbformat": 4,
 "nbformat_minor": 5
}
